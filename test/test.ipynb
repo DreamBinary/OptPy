{
 "cells": [
  {
   "cell_type": "code",
   "outputs": [],
   "source": [
    "import os"
   ],
   "metadata": {
    "collapsed": false,
    "ExecuteTime": {
     "end_time": "2024-02-06T08:58:05.480183900Z",
     "start_time": "2024-02-06T08:58:05.473105400Z"
    }
   },
   "id": "6424e78ed7ae8478",
   "execution_count": 6
  },
  {
   "cell_type": "code",
   "outputs": [
    {
     "data": {
      "text/plain": "'/root'"
     },
     "execution_count": 7,
     "metadata": {},
     "output_type": "execute_result"
    }
   ],
   "source": [
    "# current working directory\n",
    "os.getcwd()"
   ],
   "metadata": {
    "collapsed": false,
    "ExecuteTime": {
     "end_time": "2024-02-06T08:58:05.886012600Z",
     "start_time": "2024-02-06T08:58:05.869452600Z"
    }
   },
   "id": "dcd5249711bb797d",
   "execution_count": 7
  },
  {
   "cell_type": "code",
   "execution_count": 9,
   "id": "initial_id",
   "metadata": {
    "collapsed": true,
    "ExecuteTime": {
     "end_time": "2024-02-06T08:58:29.054489100Z",
     "start_time": "2024-02-06T08:58:29.001469500Z"
    }
   },
   "outputs": [
    {
     "name": "stdout",
     "output_type": "stream",
     "text": [
      "# -*- coding:utf-8 -*-\n",
      "# @FileName : test.py\n",
      "# @Time : 2024/2/6 16:53\n",
      "# @Author : fiv\n",
      "\n",
      "def test():\n",
      "    import time\n",
      "    start = time.time()\n",
      "    for i in range(1000000):\n",
      "        i = i + 1\n",
      "    end = time.time()\n",
      "    print(end - start)\n",
      "\n",
      "\n",
      "if __name__ == '__main__':\n",
      "    test()\n"
     ]
    }
   ],
   "source": [
    "with open(\"OptPy/test/test.py\") as f:\n",
    "    print(f.read())"
   ]
  },
  {
   "cell_type": "code",
   "outputs": [
    {
     "name": "stdout",
     "output_type": "stream",
     "text": [
      "0.03804183006286621\n"
     ]
    },
    {
     "data": {
      "text/plain": "0"
     },
     "execution_count": 11,
     "metadata": {},
     "output_type": "execute_result"
    }
   ],
   "source": [
    "os.system(\"python OptPy/test/test.py\")"
   ],
   "metadata": {
    "collapsed": false,
    "ExecuteTime": {
     "end_time": "2024-02-06T09:00:06.142668200Z",
     "start_time": "2024-02-06T09:00:06.042410200Z"
    }
   },
   "id": "646bb1b3cb7ba1f3",
   "execution_count": 11
  },
  {
   "cell_type": "code",
   "outputs": [
    {
     "name": "stdout",
     "output_type": "stream",
     "text": [
      "0.009759902954101562\n"
     ]
    },
    {
     "data": {
      "text/plain": "0"
     },
     "execution_count": 10,
     "metadata": {},
     "output_type": "execute_result"
    }
   ],
   "source": [
    "# test pypy\n",
    "os.system(\"conda run -n my_pypy python OptPy/test/test.py\")"
   ],
   "metadata": {
    "collapsed": false,
    "ExecuteTime": {
     "end_time": "2024-02-06T08:59:41.537853300Z",
     "start_time": "2024-02-06T08:59:39.726760800Z"
    }
   },
   "id": "64b7f8c44848d88",
   "execution_count": 10
  },
  {
   "cell_type": "code",
   "outputs": [
    {
     "name": "stdout",
     "output_type": "stream",
     "text": [
      "0.0028705596923828125\n"
     ]
    },
    {
     "data": {
      "text/plain": "0"
     },
     "execution_count": 14,
     "metadata": {},
     "output_type": "execute_result"
    }
   ],
   "source": [
    "# test pypy\n",
    "os.system(\"conda run -n my_pypy pypy3 OptPy/test/test.py\")"
   ],
   "metadata": {
    "collapsed": false,
    "ExecuteTime": {
     "end_time": "2024-02-06T09:03:22.417145800Z",
     "start_time": "2024-02-06T09:03:21.092589700Z"
    }
   },
   "id": "df08c7c186a2db0f",
   "execution_count": 14
  },
  {
   "cell_type": "code",
   "outputs": [
    {
     "name": "stdout",
     "output_type": "stream",
     "text": [
      "# -*- coding:utf-8 -*-\n",
      "# @FileName : test.py\n",
      "# @Time : 2024/2/6 16:53\n",
      "# @Author : fiv\n",
      "\n",
      "def test():\n",
      "    import time\n",
      "    import numpy as np\n",
      "    start = time.time()\n",
      "    a = np.random.rand(1000000)\n",
      "    b = np.random.rand(1000000)\n",
      "    c = np.dot(a, b)\n",
      "    end = time.time()\n",
      "    print(end - start)\n",
      "\n",
      "\n",
      "if __name__ == '__main__':\n",
      "    test()\n"
     ]
    }
   ],
   "source": [
    "with open(\"OptPy/test/test.py\") as f:\n",
    "    print(f.read())"
   ],
   "metadata": {
    "collapsed": false,
    "ExecuteTime": {
     "end_time": "2024-02-06T09:04:51.788997500Z",
     "start_time": "2024-02-06T09:04:51.733113100Z"
    }
   },
   "id": "28bbe19ba4267388",
   "execution_count": 15
  },
  {
   "cell_type": "code",
   "outputs": [
    {
     "name": "stdout",
     "output_type": "stream",
     "text": [
      "0.039302825927734375\n"
     ]
    },
    {
     "data": {
      "text/plain": "0"
     },
     "execution_count": 19,
     "metadata": {},
     "output_type": "execute_result"
    }
   ],
   "source": [
    "os.system(\"python OptPy/test/test.py\")"
   ],
   "metadata": {
    "collapsed": false,
    "ExecuteTime": {
     "end_time": "2024-02-06T09:43:04.367480400Z",
     "start_time": "2024-02-06T09:43:03.865242900Z"
    }
   },
   "id": "96874bfe030919f0",
   "execution_count": 19
  },
  {
   "cell_type": "markdown",
   "source": [],
   "metadata": {
    "collapsed": false
   },
   "id": "f48bf6c134786932"
  },
  {
   "cell_type": "code",
   "outputs": [
    {
     "name": "stdout",
     "output_type": "stream",
     "text": [
      "0.05512189865112305\n"
     ]
    },
    {
     "data": {
      "text/plain": "0"
     },
     "execution_count": 20,
     "metadata": {},
     "output_type": "execute_result"
    }
   ],
   "source": [
    "# test pypy\n",
    "os.system(\"conda run -n my_pypy pypy3 OptPy/test/test.py\")"
   ],
   "metadata": {
    "collapsed": false,
    "ExecuteTime": {
     "end_time": "2024-02-06T09:43:08.399858700Z",
     "start_time": "2024-02-06T09:43:05.565953800Z"
    }
   },
   "id": "83c4b6bba7395333",
   "execution_count": 20
  },
  {
   "cell_type": "code",
   "outputs": [],
   "source": [],
   "metadata": {
    "collapsed": false
   },
   "id": "24fc8c4e6b180a9"
  }
 ],
 "metadata": {
  "kernelspec": {
   "display_name": "Python 3",
   "language": "python",
   "name": "python3"
  },
  "language_info": {
   "codemirror_mode": {
    "name": "ipython",
    "version": 2
   },
   "file_extension": ".py",
   "mimetype": "text/x-python",
   "name": "python",
   "nbconvert_exporter": "python",
   "pygments_lexer": "ipython2",
   "version": "2.7.6"
  }
 },
 "nbformat": 4,
 "nbformat_minor": 5
}
