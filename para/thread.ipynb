{
 "cells": [
  {
   "cell_type": "markdown",
   "source": [
    "# threading"
   ],
   "metadata": {
    "collapsed": false
   },
   "id": "d4b916195235f15f"
  },
  {
   "cell_type": "code",
   "execution_count": 15,
   "id": "initial_id",
   "metadata": {
    "collapsed": true,
    "ExecuteTime": {
     "end_time": "2024-02-06T04:35:54.300484300Z",
     "start_time": "2024-02-06T04:35:49.281442300Z"
    }
   },
   "outputs": [
    {
     "name": "stdout",
     "output_type": "stream",
     "text": [
      "Hello from 0\n",
      "Thread Thread-120 (fun) ended\n",
      "Hello from 1\n",
      "Thread Thread-121 (fun) ended\n",
      "Hello from 2\n",
      "Thread Thread-122 (fun) ended\n",
      "Hello from 3\n",
      "Thread Thread-123 (fun) ended\n",
      "Hello from 4\n",
      "Thread Thread-124 (fun) ended\n",
      "CPU times: total: 0 ns\n",
      "Wall time: 5.01 s\n"
     ]
    }
   ],
   "source": [
    "import threading\n",
    "import time\n",
    "\n",
    "\n",
    "def fun(num: int):\n",
    "    time.sleep(1)\n",
    "    print(f'Hello from {num}')\n",
    "    print(\"Thread %s ended\" % threading.current_thread().name)\n",
    "\n",
    "\n",
    "threads = []\n",
    "\n",
    "\n",
    "def test():\n",
    "    for i in range(5):\n",
    "        t = threading.Thread(target=fun, args=(i,))\n",
    "        threads.append(t)\n",
    "        t.start()\n",
    "        t.join()\n",
    "\n",
    "%time test()"
   ]
  },
  {
   "cell_type": "code",
   "outputs": [
    {
     "name": "stdout",
     "output_type": "stream",
     "text": [
      "Hello from 0\n",
      "Thread Thread-130 ended\n",
      "Hello from 1\n",
      "Thread Thread-131 ended\n",
      "Hello from 2\n",
      "Thread Thread-132 ended\n",
      "Hello from 3\n",
      "Thread Thread-133 ended\n",
      "Hello from 4\n",
      "Thread Thread-134 ended\n"
     ]
    }
   ],
   "source": [
    "import threading\n",
    "import time\n",
    "\n",
    "\n",
    "class MyThread(threading.Thread):\n",
    "    def __init__(self, num):\n",
    "        threading.Thread.__init__(self)\n",
    "        self.num = num\n",
    "\n",
    "    def run(self):\n",
    "        time.sleep(1)\n",
    "        print(f'Hello from {self.num}')\n",
    "        print(\"Thread %s ended\" % threading.current_thread().name)\n",
    "\n",
    "\n",
    "threads = []\n",
    "for i in range(5):\n",
    "    t = MyThread(i)\n",
    "    threads.append(t)\n",
    "\n",
    "for t in threads:\n",
    "    t.start()\n",
    "    t.join()"
   ],
   "metadata": {
    "collapsed": false,
    "ExecuteTime": {
     "end_time": "2024-02-06T04:40:05.756837800Z",
     "start_time": "2024-02-06T04:40:00.736662900Z"
    }
   },
   "id": "1656d9ee4639cfdc",
   "execution_count": 17
  },
  {
   "cell_type": "markdown",
   "source": [
    "# Lock"
   ],
   "metadata": {
    "collapsed": false
   },
   "id": "ccf83ea2d5011c16"
  },
  {
   "cell_type": "code",
   "outputs": [
    {
     "name": "stdout",
     "output_type": "stream",
     "text": [
      "0\n"
     ]
    }
   ],
   "source": [
    "import threading\n",
    "\n",
    "cnt = 0\n",
    "lock = threading.Lock()\n",
    "\n",
    "\n",
    "def inc():\n",
    "    global cnt\n",
    "    for _ in range(1000000):\n",
    "        lock.acquire()\n",
    "        cnt += 1\n",
    "        lock.release()\n",
    "\n",
    "\n",
    "def dec():\n",
    "    global cnt\n",
    "    for _ in range(1000000):\n",
    "        lock.acquire()\n",
    "        cnt -= 1\n",
    "        lock.release()\n",
    "\n",
    "\n",
    "t1 = threading.Thread(target=inc)\n",
    "t2 = threading.Thread(target=dec)\n",
    "t1.start()\n",
    "t2.start()\n",
    "t1.join()\n",
    "t2.join()\n",
    "print(cnt)"
   ],
   "metadata": {
    "collapsed": false,
    "ExecuteTime": {
     "end_time": "2024-02-06T04:43:18.682913300Z",
     "start_time": "2024-02-06T04:43:18.163413200Z"
    }
   },
   "id": "90ccb054dd830fd6",
   "execution_count": 18
  },
  {
   "cell_type": "markdown",
   "source": [],
   "metadata": {
    "collapsed": false
   },
   "id": "56c76aaaa03b5812"
  },
  {
   "cell_type": "code",
   "outputs": [
    {
     "name": "stdout",
     "output_type": "stream",
     "text": [
      "0\n"
     ]
    }
   ],
   "source": [
    "import threading\n",
    "import time\n",
    "\n",
    "cnt = 0\n",
    "\n",
    "\n",
    "# lock = threading.Lock()\n",
    "\n",
    "def inc():\n",
    "    global cnt\n",
    "    for _ in range(100):\n",
    "        # lock.acquire()\n",
    "        time.sleep(0.0001)\n",
    "        cnt += 1\n",
    "        # lock.release()\n",
    "\n",
    "\n",
    "def dec():\n",
    "    global cnt\n",
    "    for _ in range(100):\n",
    "        # lock.acquire()\n",
    "        time.sleep(0.0001)\n",
    "        cnt -= 1\n",
    "        # lock.release()\n",
    "\n",
    "\n",
    "for _ in range(100):\n",
    "    t1 = threading.Thread(target=inc)\n",
    "    t2 = threading.Thread(target=dec)\n",
    "    t1.start()\n",
    "    t2.start()\n",
    "    t1.join()\n",
    "    t2.join()\n",
    "print(cnt)"
   ],
   "metadata": {
    "collapsed": false,
    "ExecuteTime": {
     "end_time": "2024-02-06T04:49:00.389060600Z",
     "start_time": "2024-02-06T04:48:54.817345800Z"
    }
   },
   "id": "21d052c740913451",
   "execution_count": 27
  },
  {
   "cell_type": "markdown",
   "source": [
    "# RLock\n",
    "有拿到锁的线程才能释放该锁"
   ],
   "metadata": {
    "collapsed": false
   },
   "id": "54b0a38819bbc25a"
  },
  {
   "cell_type": "code",
   "outputs": [],
   "source": [
    "..."
   ],
   "metadata": {
    "collapsed": false
   },
   "id": "7e6fba09b290d783"
  },
  {
   "cell_type": "markdown",
   "source": [
    "# With"
   ],
   "metadata": {
    "collapsed": false
   },
   "id": "f658f3873f021b6c"
  },
  {
   "cell_type": "markdown",
   "source": [
    "那么GIL会成为试图发挥多线程应用潜能的纯Python开发的瓶颈吗？是的。线程是编程语言的架构，CPython解释器是线程和操作系统的桥梁。这就是为什么Jython，IronPython, Pypy没有GIL的原因，因为它不是必要的。\n",
    "`GIL 影响的主要是 CPU 密集型任务`\n",
    "`Python做多线程的最佳场景是处理I/O密集型应用`"
   ],
   "metadata": {
    "collapsed": false
   },
   "id": "7b6358e97a1a2089"
  }
 ],
 "metadata": {
  "kernelspec": {
   "display_name": "Python 3",
   "language": "python",
   "name": "python3"
  },
  "language_info": {
   "codemirror_mode": {
    "name": "ipython",
    "version": 2
   },
   "file_extension": ".py",
   "mimetype": "text/x-python",
   "name": "python",
   "nbconvert_exporter": "python",
   "pygments_lexer": "ipython2",
   "version": "2.7.6"
  }
 },
 "nbformat": 4,
 "nbformat_minor": 5
}
